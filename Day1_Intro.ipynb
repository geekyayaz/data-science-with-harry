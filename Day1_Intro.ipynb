{
 "cells": [
  {
   "cell_type": "markdown",
   "id": "aefdb41e-d9da-4f25-babd-3848ef523be9",
   "metadata": {},
   "source": [
    "# Day 1: Introduction to Data Science\n",
    "Welcome to my learning journey through CodeWithHarry's Data Science course!  \n",
    "In this notebook, I'll cover the basics of Data Science, Python, and the key libraries like pandas and NumPy.\n",
    "\n",
    "## Key Concepts:\n",
    "- What is Data Science?\n",
    "- Understanding the Conda Environment\n",
    "- Jupyterlab and Jupyter notebook"
   ]
  },
  {
   "cell_type": "markdown",
   "id": "5629f200-97f8-4756-89e5-0fe39b635f87",
   "metadata": {},
   "source": [
    "## What is Data Science?\n",
    "Data Science is the field that combines statistics, computer science, and domain knowledge to extract insights and knowledge from data. Data scientists use algorithms, data analysis, and machine learning techniques to analyze and interpret complex data.\n",
    "### Why Python for Data Science?\n",
    "- **Simple Syntax**: Python is easy to read and write, making it perfect for beginners.\n",
    "- **Libraries**: Python has powerful libraries like **pandas**, **NumPy**, **matplotlib**, and **scikit-learn** that make data manipulation and visualization easy.\n",
    "- **Community**: Python has a strong, supportive community, making it easy to find help.\n",
    "\n"
   ]
  },
  {
   "cell_type": "markdown",
   "id": "e6e4b9d0-3f56-41f5-a29b-e9a00e901374",
   "metadata": {},
   "source": [
    "## Understanding the Conda Environment\n",
    "\n",
    "We'll explore the **Conda environment**, an essential tool for managing Python packages and environments in data science.\n",
    "\n",
    " ### What is Conda?\n",
    "\n",
    "**Conda** is a powerful package manager that helps you manage your Python environments and dependencies.\n",
    "\n",
    "### Why Use Conda?\n",
    "- It isolates environments for different projects.\n",
    "- Manages package versions to avoid conflicts.\n",
    "- Works cross-platform (Windows, macOS, Linux).\n",
    "- Easily integrates with data science tools like **Jupyter**.\n",
    "### 1. Managing Environments with Conda\n",
    "\n",
    "By default, you are in the **base environment**. But for better control, you can create separate environments for each project.\n",
    "\n",
    "### 2. Check Available Environments\n",
    "\n",
    "To list the available environments, run:\n",
    "\n",
    "```bash```\n",
    "conda env list\n",
    "\n",
    "### 3. Create a New Environment\n",
    "To create a new Conda environment, run:\n",
    "```conda create -n [Environment name]```\n",
    "Tip: Create an Environment with a Specific Python Version: \n",
    "```conda create -n myenv python=3.11```\n",
    "### 4. Activate an Environment\n",
    "To switch to the new environment, use:\n",
    "```conda activate myenv```\n",
    "### 5.Install Packages\n",
    "To install packages in the environment, use:\n",
    "```conda install -c conda-forge numpy```\n",
    "### 6.  Deactivate the Environment\n",
    "When you're done, you can exit the environment with:\n",
    "```conda deactivate```"
   ]
  },
  {
   "cell_type": "markdown",
   "id": "1fd0a54c-67cb-484c-b946-7e9cee9a2265",
   "metadata": {},
   "source": [
    "## Jupyterlab and Jupyter notebook Tutorial\n",
    "Jupyter is an open-source tool for creating and sharing documents that contain live code, visualizations, equations, and text.\n",
    "### What is Jupyter Notebook?\n",
    "A simple, interactive environment to write and run code.\n",
    "#### Start Jupyter Notebook by typing:\n",
    "\n",
    "```conda install jupyter```\n",
    "followed by:\n",
    " ```jupyter notebook```\n",
    "### What is JupyterLab?\n",
    "JupyterLab is the next-generation interface for Jupyter, offering a more advanced and flexible workspace.\n",
    "```bash\n",
    "conda install jupyterlab\n",
    "jupyter lab"
   ]
  },
  {
   "cell_type": "code",
   "execution_count": null,
   "id": "8de6524a-33fa-489a-a496-1a6de6918bfa",
   "metadata": {},
   "outputs": [],
   "source": []
  }
 ],
 "metadata": {
  "kernelspec": {
   "display_name": "Python 3 (ipykernel)",
   "language": "python",
   "name": "python3"
  },
  "language_info": {
   "codemirror_mode": {
    "name": "ipython",
    "version": 3
   },
   "file_extension": ".py",
   "mimetype": "text/x-python",
   "name": "python",
   "nbconvert_exporter": "python",
   "pygments_lexer": "ipython3",
   "version": "3.13.2"
  }
 },
 "nbformat": 4,
 "nbformat_minor": 5
}
